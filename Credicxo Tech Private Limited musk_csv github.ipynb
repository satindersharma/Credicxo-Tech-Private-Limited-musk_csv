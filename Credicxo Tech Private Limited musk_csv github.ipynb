{
 "cells": [
  {
   "cell_type": "code",
   "execution_count": 1,
   "metadata": {},
   "outputs": [],
   "source": [
    "# Importing the libraries\n",
    "import numpy as np\n",
    "import matplotlib.pyplot as plt\n",
    "import pandas as pd"
   ]
  },
  {
   "cell_type": "code",
   "execution_count": 2,
   "metadata": {},
   "outputs": [],
   "source": [
    "# Importing the dataset\n",
    "dataset = pd.read_csv('musk_csv.csv')"
   ]
  },
  {
   "cell_type": "code",
   "execution_count": 3,
   "metadata": {},
   "outputs": [],
   "source": [
    "X = dataset.iloc[:, 3:169].values\n",
    "y = dataset.iloc[:, 169].values"
   ]
  },
  {
   "cell_type": "code",
   "execution_count": 4,
   "metadata": {},
   "outputs": [],
   "source": [
    "# Splitting the dataset into the Training set and Test set\n",
    "from sklearn.model_selection import train_test_split\n",
    "X_train, X_test, y_train, y_test = train_test_split(X, y, test_size = 0.2, random_state = 0)"
   ]
  },
  {
   "cell_type": "code",
   "execution_count": 5,
   "metadata": {},
   "outputs": [],
   "source": [
    "# Feature Scaling\n",
    "from sklearn.preprocessing import StandardScaler"
   ]
  },
  {
   "cell_type": "code",
   "execution_count": 6,
   "metadata": {},
   "outputs": [
    {
     "name": "stderr",
     "output_type": "stream",
     "text": [
      "c:\\users\\sharma\\anaconda3\\lib\\site-packages\\sklearn\\utils\\validation.py:475: DataConversionWarning: Data with input dtype int64 was converted to float64 by StandardScaler.\n",
      "  warnings.warn(msg, DataConversionWarning)\n"
     ]
    }
   ],
   "source": [
    "sc = StandardScaler()\n",
    "X_train = sc.fit_transform(X_train)\n",
    "X_test = sc.transform(X_test)"
   ]
  },
  {
   "cell_type": "code",
   "execution_count": 7,
   "metadata": {},
   "outputs": [],
   "source": [
    "# Principal component analysis\n",
    "from sklearn.decomposition import PCA"
   ]
  },
  {
   "cell_type": "code",
   "execution_count": 8,
   "metadata": {},
   "outputs": [
    {
     "data": {
      "text/plain": [
       "array([0.29154277, 0.17920091, 0.04874384, 0.04332552, 0.03523901,\n",
       "       0.03207665])"
      ]
     },
     "execution_count": 8,
     "metadata": {},
     "output_type": "execute_result"
    }
   ],
   "source": [
    "# chosing top 6 components\n",
    "pca = PCA(n_components=6)\n",
    "X_train = pca.fit_transform(X_train)\n",
    "X_test = pca.transform(X_test)\n",
    "explained_variance = pca.explained_variance_ratio_\n",
    "explained_variance"
   ]
  },
  {
   "cell_type": "code",
   "execution_count": 9,
   "metadata": {},
   "outputs": [
    {
     "name": "stderr",
     "output_type": "stream",
     "text": [
      "c:\\users\\sharma\\anaconda3\\lib\\site-packages\\h5py\\__init__.py:36: FutureWarning: Conversion of the second argument of issubdtype from `float` to `np.floating` is deprecated. In future, it will be treated as `np.float64 == np.dtype(float).type`.\n",
      "  from ._conv import register_converters as _register_converters\n",
      "Using TensorFlow backend.\n"
     ]
    }
   ],
   "source": [
    "import keras"
   ]
  },
  {
   "cell_type": "code",
   "execution_count": 10,
   "metadata": {},
   "outputs": [],
   "source": [
    "from keras.models import Sequential\n",
    "from keras.layers import Dense"
   ]
  },
  {
   "cell_type": "code",
   "execution_count": 23,
   "metadata": {},
   "outputs": [],
   "source": [
    "classifier = Sequential()"
   ]
  },
  {
   "cell_type": "code",
   "execution_count": 33,
   "metadata": {},
   "outputs": [
    {
     "name": "stderr",
     "output_type": "stream",
     "text": [
      "c:\\users\\sharma\\anaconda3\\lib\\site-packages\\ipykernel_launcher.py:1: UserWarning: Update your `Dense` call to the Keras 2 API: `Dense(activation=\"relu\", input_dim=6, units=12, kernel_initializer=\"uniform\")`\n",
      "  \"\"\"Entry point for launching an IPython kernel.\n"
     ]
    }
   ],
   "source": [
    "classifier.add(Dense(output_dim = 12,init = 'uniform', activation = 'relu', input_dim = 6))"
   ]
  },
  {
   "cell_type": "code",
   "execution_count": 34,
   "metadata": {},
   "outputs": [
    {
     "name": "stderr",
     "output_type": "stream",
     "text": [
      "c:\\users\\sharma\\anaconda3\\lib\\site-packages\\ipykernel_launcher.py:1: UserWarning: Update your `Dense` call to the Keras 2 API: `Dense(activation=\"relu\", units=8, kernel_initializer=\"uniform\")`\n",
      "  \"\"\"Entry point for launching an IPython kernel.\n"
     ]
    }
   ],
   "source": [
    "classifier.add(Dense(output_dim = 8,init = 'uniform', activation = 'relu'))"
   ]
  },
  {
   "cell_type": "code",
   "execution_count": 35,
   "metadata": {},
   "outputs": [
    {
     "name": "stderr",
     "output_type": "stream",
     "text": [
      "c:\\users\\sharma\\anaconda3\\lib\\site-packages\\ipykernel_launcher.py:1: UserWarning: Update your `Dense` call to the Keras 2 API: `Dense(activation=\"relu\", units=3, kernel_initializer=\"uniform\")`\n",
      "  \"\"\"Entry point for launching an IPython kernel.\n"
     ]
    }
   ],
   "source": [
    "classifier.add(Dense(output_dim = 3,init = 'uniform', activation = 'relu'))"
   ]
  },
  {
   "cell_type": "code",
   "execution_count": 36,
   "metadata": {},
   "outputs": [
    {
     "name": "stderr",
     "output_type": "stream",
     "text": [
      "c:\\users\\sharma\\anaconda3\\lib\\site-packages\\ipykernel_launcher.py:1: UserWarning: Update your `Dense` call to the Keras 2 API: `Dense(activation=\"sigmoid\", units=1, kernel_initializer=\"uniform\")`\n",
      "  \"\"\"Entry point for launching an IPython kernel.\n"
     ]
    }
   ],
   "source": [
    "classifier.add(Dense(output_dim = 1,init = 'uniform', activation = 'sigmoid'))"
   ]
  },
  {
   "cell_type": "code",
   "execution_count": 37,
   "metadata": {},
   "outputs": [],
   "source": [
    "classifier.compile(optimizer = 'adam', loss = 'binary_crossentropy',metrics = ['accuracy'])"
   ]
  },
  {
   "cell_type": "code",
   "execution_count": 38,
   "metadata": {},
   "outputs": [
    {
     "name": "stdout",
     "output_type": "stream",
     "text": [
      "Train on 3958 samples, validate on 1320 samples\n",
      "Epoch 1/120\n",
      "3958/3958 [==============================] - 1s 177us/step - loss: 0.5819 - acc: 0.8439 - val_loss: 0.4233 - val_acc: 0.8492\n",
      "Epoch 2/120\n",
      "3958/3958 [==============================] - 0s 67us/step - loss: 0.4316 - acc: 0.8439 - val_loss: 0.4207 - val_acc: 0.8492\n",
      "Epoch 3/120\n",
      "3958/3958 [==============================] - 0s 71us/step - loss: 0.4289 - acc: 0.8439 - val_loss: 0.4177 - val_acc: 0.8492\n",
      "Epoch 4/120\n",
      "3958/3958 [==============================] - 0s 73us/step - loss: 0.4241 - acc: 0.8439 - val_loss: 0.4112 - val_acc: 0.8492\n",
      "Epoch 5/120\n",
      "3958/3958 [==============================] - 0s 70us/step - loss: 0.4172 - acc: 0.8439 - val_loss: 0.4044 - val_acc: 0.8492\n",
      "Epoch 6/120\n",
      "3958/3958 [==============================] - 0s 68us/step - loss: 0.4088 - acc: 0.8439 - val_loss: 0.3942 - val_acc: 0.8492\n",
      "Epoch 7/120\n",
      "3958/3958 [==============================] - 0s 74us/step - loss: 0.3955 - acc: 0.8439 - val_loss: 0.3799 - val_acc: 0.8492\n",
      "Epoch 8/120\n",
      "3958/3958 [==============================] - 0s 70us/step - loss: 0.3753 - acc: 0.8439 - val_loss: 0.3548 - val_acc: 0.8492\n",
      "Epoch 9/120\n",
      "3958/3958 [==============================] - 0s 70us/step - loss: 0.3423 - acc: 0.8439 - val_loss: 0.3189 - val_acc: 0.8492\n",
      "Epoch 10/120\n",
      "3958/3958 [==============================] - 0s 71us/step - loss: 0.2999 - acc: 0.8439 - val_loss: 0.2687 - val_acc: 0.8492\n",
      "Epoch 11/120\n",
      "3958/3958 [==============================] - 0s 68us/step - loss: 0.2484 - acc: 0.8663 - val_loss: 0.2388 - val_acc: 0.9053\n",
      "Epoch 12/120\n",
      "3958/3958 [==============================] - 0s 71us/step - loss: 0.2318 - acc: 0.9080 - val_loss: 0.2283 - val_acc: 0.9129\n",
      "Epoch 13/120\n",
      "3958/3958 [==============================] - 0s 72us/step - loss: 0.2239 - acc: 0.9093 - val_loss: 0.2371 - val_acc: 0.9053\n",
      "Epoch 14/120\n",
      "3958/3958 [==============================] - 0s 78us/step - loss: 0.2200 - acc: 0.9174 - val_loss: 0.2298 - val_acc: 0.9167\n",
      "Epoch 15/120\n",
      "3958/3958 [==============================] - 0s 73us/step - loss: 0.2156 - acc: 0.9197 - val_loss: 0.2328 - val_acc: 0.9076\n",
      "Epoch 16/120\n",
      "3958/3958 [==============================] - 0s 96us/step - loss: 0.2116 - acc: 0.9197 - val_loss: 0.2264 - val_acc: 0.9174\n",
      "Epoch 17/120\n",
      "3958/3958 [==============================] - 0s 68us/step - loss: 0.2082 - acc: 0.9247 - val_loss: 0.2225 - val_acc: 0.9265\n",
      "Epoch 18/120\n",
      "3958/3958 [==============================] - 0s 71us/step - loss: 0.2058 - acc: 0.9260 - val_loss: 0.2169 - val_acc: 0.9159\n",
      "Epoch 19/120\n",
      "3958/3958 [==============================] - 0s 74us/step - loss: 0.2042 - acc: 0.9262 - val_loss: 0.2129 - val_acc: 0.9235\n",
      "Epoch 20/120\n",
      "3958/3958 [==============================] - 0s 69us/step - loss: 0.2010 - acc: 0.9250 - val_loss: 0.2135 - val_acc: 0.9182\n",
      "Epoch 21/120\n",
      "3958/3958 [==============================] - 0s 72us/step - loss: 0.2000 - acc: 0.9298 - val_loss: 0.2141 - val_acc: 0.9212\n",
      "Epoch 22/120\n",
      "3958/3958 [==============================] - 0s 72us/step - loss: 0.1993 - acc: 0.9272 - val_loss: 0.2123 - val_acc: 0.9205\n",
      "Epoch 23/120\n",
      "3958/3958 [==============================] - 0s 73us/step - loss: 0.1945 - acc: 0.9288 - val_loss: 0.2164 - val_acc: 0.9212\n",
      "Epoch 24/120\n",
      "3958/3958 [==============================] - 0s 80us/step - loss: 0.1939 - acc: 0.9295 - val_loss: 0.2161 - val_acc: 0.9182\n",
      "Epoch 25/120\n",
      "3958/3958 [==============================] - 0s 93us/step - loss: 0.1909 - acc: 0.9315 - val_loss: 0.2083 - val_acc: 0.9220\n",
      "Epoch 26/120\n",
      "3958/3958 [==============================] - 0s 71us/step - loss: 0.1928 - acc: 0.9336 - val_loss: 0.2124 - val_acc: 0.9212\n",
      "Epoch 27/120\n",
      "3958/3958 [==============================] - 0s 68us/step - loss: 0.1882 - acc: 0.9323 - val_loss: 0.2151 - val_acc: 0.9212\n",
      "Epoch 28/120\n",
      "3958/3958 [==============================] - 0s 71us/step - loss: 0.1876 - acc: 0.9351 - val_loss: 0.2135 - val_acc: 0.9174\n",
      "Epoch 29/120\n",
      "3958/3958 [==============================] - 0s 74us/step - loss: 0.1865 - acc: 0.9320 - val_loss: 0.2108 - val_acc: 0.9197\n",
      "Epoch 30/120\n",
      "3958/3958 [==============================] - 0s 71us/step - loss: 0.1855 - acc: 0.9330 - val_loss: 0.2118 - val_acc: 0.9182\n",
      "Epoch 31/120\n",
      "3958/3958 [==============================] - 0s 71us/step - loss: 0.1870 - acc: 0.9343 - val_loss: 0.2066 - val_acc: 0.9212\n",
      "Epoch 32/120\n",
      "3958/3958 [==============================] - 0s 73us/step - loss: 0.1845 - acc: 0.9330 - val_loss: 0.2135 - val_acc: 0.9144\n",
      "Epoch 33/120\n",
      "3958/3958 [==============================] - 0s 82us/step - loss: 0.1847 - acc: 0.9351 - val_loss: 0.2082 - val_acc: 0.9212\n",
      "Epoch 34/120\n",
      "3958/3958 [==============================] - 0s 89us/step - loss: 0.1831 - acc: 0.9318 - val_loss: 0.2128 - val_acc: 0.9197\n",
      "Epoch 35/120\n",
      "3958/3958 [==============================] - 0s 70us/step - loss: 0.1832 - acc: 0.9353 - val_loss: 0.2102 - val_acc: 0.9220\n",
      "Epoch 36/120\n",
      "3958/3958 [==============================] - 0s 74us/step - loss: 0.1835 - acc: 0.9338 - val_loss: 0.2037 - val_acc: 0.9250\n",
      "Epoch 37/120\n",
      "3958/3958 [==============================] - 0s 73us/step - loss: 0.1809 - acc: 0.9363 - val_loss: 0.2037 - val_acc: 0.9220\n",
      "Epoch 38/120\n",
      "3958/3958 [==============================] - 0s 68us/step - loss: 0.1804 - acc: 0.9353 - val_loss: 0.2081 - val_acc: 0.9235\n",
      "Epoch 39/120\n",
      "3958/3958 [==============================] - 0s 77us/step - loss: 0.1796 - acc: 0.9358 - val_loss: 0.2051 - val_acc: 0.9189\n",
      "Epoch 40/120\n",
      "3958/3958 [==============================] - 0s 75us/step - loss: 0.1799 - acc: 0.9371 - val_loss: 0.2020 - val_acc: 0.9220\n",
      "Epoch 41/120\n",
      "3958/3958 [==============================] - 0s 92us/step - loss: 0.1782 - acc: 0.9371 - val_loss: 0.2066 - val_acc: 0.9197\n",
      "Epoch 42/120\n",
      "3958/3958 [==============================] - 0s 75us/step - loss: 0.1796 - acc: 0.9363 - val_loss: 0.2067 - val_acc: 0.9197\n",
      "Epoch 43/120\n",
      "3958/3958 [==============================] - 0s 68us/step - loss: 0.1776 - acc: 0.9371 - val_loss: 0.2019 - val_acc: 0.9220\n",
      "Epoch 44/120\n",
      "3958/3958 [==============================] - 0s 76us/step - loss: 0.1803 - acc: 0.9330 - val_loss: 0.2033 - val_acc: 0.9212\n",
      "Epoch 45/120\n",
      "3958/3958 [==============================] - 0s 92us/step - loss: 0.1768 - acc: 0.9371 - val_loss: 0.1983 - val_acc: 0.9205\n",
      "Epoch 46/120\n",
      "3958/3958 [==============================] - 0s 74us/step - loss: 0.1784 - acc: 0.9351 - val_loss: 0.1972 - val_acc: 0.9205\n",
      "Epoch 47/120\n",
      "3958/3958 [==============================] - 0s 73us/step - loss: 0.1763 - acc: 0.9363 - val_loss: 0.2009 - val_acc: 0.9258\n",
      "Epoch 48/120\n",
      "3958/3958 [==============================] - 0s 67us/step - loss: 0.1764 - acc: 0.9356 - val_loss: 0.1979 - val_acc: 0.9220\n",
      "Epoch 49/120\n",
      "3958/3958 [==============================] - 0s 71us/step - loss: 0.1769 - acc: 0.9351 - val_loss: 0.2037 - val_acc: 0.9182\n",
      "Epoch 50/120\n",
      "3958/3958 [==============================] - 0s 77us/step - loss: 0.1763 - acc: 0.9338 - val_loss: 0.2001 - val_acc: 0.9212\n",
      "Epoch 51/120\n",
      "3958/3958 [==============================] - 0s 70us/step - loss: 0.1754 - acc: 0.9361 - val_loss: 0.2005 - val_acc: 0.9212\n",
      "Epoch 52/120\n",
      "3958/3958 [==============================] - 0s 74us/step - loss: 0.1742 - acc: 0.9351 - val_loss: 0.1954 - val_acc: 0.9235\n",
      "Epoch 53/120\n",
      "3958/3958 [==============================] - 0s 76us/step - loss: 0.1737 - acc: 0.9378 - val_loss: 0.2029 - val_acc: 0.9227\n",
      "Epoch 54/120\n",
      "3958/3958 [==============================] - 0s 68us/step - loss: 0.1744 - acc: 0.9341 - val_loss: 0.1970 - val_acc: 0.9235\n",
      "Epoch 55/120\n",
      "3958/3958 [==============================] - 0s 67us/step - loss: 0.1726 - acc: 0.9381 - val_loss: 0.1962 - val_acc: 0.9227\n",
      "Epoch 56/120\n",
      "3958/3958 [==============================] - 0s 98us/step - loss: 0.1732 - acc: 0.9361 - val_loss: 0.1974 - val_acc: 0.9189\n",
      "Epoch 57/120\n",
      "3958/3958 [==============================] - 0s 74us/step - loss: 0.1739 - acc: 0.9363 - val_loss: 0.1976 - val_acc: 0.9212\n",
      "Epoch 58/120\n",
      "3958/3958 [==============================] - 0s 98us/step - loss: 0.1731 - acc: 0.9356 - val_loss: 0.2010 - val_acc: 0.9212\n",
      "Epoch 59/120\n",
      "3958/3958 [==============================] - 0s 76us/step - loss: 0.1711 - acc: 0.9366 - val_loss: 0.2021 - val_acc: 0.9212\n",
      "Epoch 60/120\n"
     ]
    },
    {
     "name": "stdout",
     "output_type": "stream",
     "text": [
      "3958/3958 [==============================] - 0s 66us/step - loss: 0.1709 - acc: 0.9366 - val_loss: 0.2045 - val_acc: 0.9197\n",
      "Epoch 61/120\n",
      "3958/3958 [==============================] - 0s 75us/step - loss: 0.1715 - acc: 0.9341 - val_loss: 0.1976 - val_acc: 0.9235\n",
      "Epoch 62/120\n",
      "3958/3958 [==============================] - 0s 69us/step - loss: 0.1722 - acc: 0.9361 - val_loss: 0.1979 - val_acc: 0.9212\n",
      "Epoch 63/120\n",
      "3958/3958 [==============================] - 0s 80us/step - loss: 0.1716 - acc: 0.9381 - val_loss: 0.2000 - val_acc: 0.9227\n",
      "Epoch 64/120\n",
      "3958/3958 [==============================] - 0s 70us/step - loss: 0.1706 - acc: 0.9376 - val_loss: 0.1947 - val_acc: 0.9273\n",
      "Epoch 65/120\n",
      "3958/3958 [==============================] - 0s 70us/step - loss: 0.1728 - acc: 0.9366 - val_loss: 0.1962 - val_acc: 0.9197\n",
      "Epoch 66/120\n",
      "3958/3958 [==============================] - 0s 70us/step - loss: 0.1710 - acc: 0.9373 - val_loss: 0.1968 - val_acc: 0.9212\n",
      "Epoch 67/120\n",
      "3958/3958 [==============================] - 0s 72us/step - loss: 0.1715 - acc: 0.9378 - val_loss: 0.1943 - val_acc: 0.9227\n",
      "Epoch 68/120\n",
      "3958/3958 [==============================] - 0s 82us/step - loss: 0.1706 - acc: 0.9363 - val_loss: 0.1997 - val_acc: 0.9182\n",
      "Epoch 69/120\n",
      "3958/3958 [==============================] - 0s 71us/step - loss: 0.1710 - acc: 0.9366 - val_loss: 0.1968 - val_acc: 0.9227\n",
      "Epoch 70/120\n",
      "3958/3958 [==============================] - 0s 66us/step - loss: 0.1704 - acc: 0.9371 - val_loss: 0.1942 - val_acc: 0.9227\n",
      "Epoch 71/120\n",
      "3958/3958 [==============================] - 0s 72us/step - loss: 0.1687 - acc: 0.9371 - val_loss: 0.1954 - val_acc: 0.9205\n",
      "Epoch 72/120\n",
      "3958/3958 [==============================] - 0s 74us/step - loss: 0.1710 - acc: 0.9343 - val_loss: 0.2034 - val_acc: 0.9159\n",
      "Epoch 73/120\n",
      "3958/3958 [==============================] - 0s 84us/step - loss: 0.1689 - acc: 0.9363 - val_loss: 0.1959 - val_acc: 0.9189\n",
      "Epoch 74/120\n",
      "3958/3958 [==============================] - 0s 72us/step - loss: 0.1706 - acc: 0.9373 - val_loss: 0.1931 - val_acc: 0.9189\n",
      "Epoch 75/120\n",
      "3958/3958 [==============================] - 0s 72us/step - loss: 0.1672 - acc: 0.9399 - val_loss: 0.1999 - val_acc: 0.9227\n",
      "Epoch 76/120\n",
      "3958/3958 [==============================] - 0s 68us/step - loss: 0.1695 - acc: 0.9376 - val_loss: 0.1965 - val_acc: 0.9182\n",
      "Epoch 77/120\n",
      "3958/3958 [==============================] - 0s 71us/step - loss: 0.1695 - acc: 0.9358 - val_loss: 0.1959 - val_acc: 0.9189\n",
      "Epoch 78/120\n",
      "3958/3958 [==============================] - 0s 81us/step - loss: 0.1690 - acc: 0.9376 - val_loss: 0.1988 - val_acc: 0.9174\n",
      "Epoch 79/120\n",
      "3958/3958 [==============================] - 0s 74us/step - loss: 0.1704 - acc: 0.9348 - val_loss: 0.1933 - val_acc: 0.9189\n",
      "Epoch 80/120\n",
      "3958/3958 [==============================] - 0s 74us/step - loss: 0.1684 - acc: 0.9378 - val_loss: 0.2005 - val_acc: 0.9144\n",
      "Epoch 81/120\n",
      "3958/3958 [==============================] - 0s 78us/step - loss: 0.1695 - acc: 0.9356 - val_loss: 0.1962 - val_acc: 0.9205\n",
      "Epoch 82/120\n",
      "3958/3958 [==============================] - 0s 79us/step - loss: 0.1675 - acc: 0.9358 - val_loss: 0.2010 - val_acc: 0.9167\n",
      "Epoch 83/120\n",
      "3958/3958 [==============================] - 0s 81us/step - loss: 0.1674 - acc: 0.9381 - val_loss: 0.1936 - val_acc: 0.9258\n",
      "Epoch 84/120\n",
      "3958/3958 [==============================] - 0s 72us/step - loss: 0.1657 - acc: 0.9376 - val_loss: 0.1959 - val_acc: 0.9273\n",
      "Epoch 85/120\n",
      "3958/3958 [==============================] - 0s 75us/step - loss: 0.1693 - acc: 0.9361 - val_loss: 0.1972 - val_acc: 0.9174\n",
      "Epoch 86/120\n",
      "3958/3958 [==============================] - 0s 66us/step - loss: 0.1666 - acc: 0.9384 - val_loss: 0.1935 - val_acc: 0.9265\n",
      "Epoch 87/120\n",
      "3958/3958 [==============================] - 0s 71us/step - loss: 0.1669 - acc: 0.9371 - val_loss: 0.1968 - val_acc: 0.9197\n",
      "Epoch 88/120\n",
      "3958/3958 [==============================] - 0s 77us/step - loss: 0.1669 - acc: 0.9384 - val_loss: 0.1937 - val_acc: 0.9197\n",
      "Epoch 89/120\n",
      "3958/3958 [==============================] - 0s 70us/step - loss: 0.1657 - acc: 0.9411 - val_loss: 0.2013 - val_acc: 0.9220\n",
      "Epoch 90/120\n",
      "3958/3958 [==============================] - 0s 81us/step - loss: 0.1670 - acc: 0.9363 - val_loss: 0.1899 - val_acc: 0.9242\n",
      "Epoch 91/120\n",
      "3958/3958 [==============================] - 0s 72us/step - loss: 0.1657 - acc: 0.9399 - val_loss: 0.1970 - val_acc: 0.9242\n",
      "Epoch 92/120\n",
      "3958/3958 [==============================] - 0s 73us/step - loss: 0.1674 - acc: 0.9381 - val_loss: 0.1964 - val_acc: 0.9227\n",
      "Epoch 93/120\n",
      "3958/3958 [==============================] - 0s 71us/step - loss: 0.1661 - acc: 0.9378 - val_loss: 0.1956 - val_acc: 0.9212\n",
      "Epoch 94/120\n",
      "3958/3958 [==============================] - 0s 75us/step - loss: 0.1659 - acc: 0.9358 - val_loss: 0.1984 - val_acc: 0.9197\n",
      "Epoch 95/120\n",
      "3958/3958 [==============================] - 0s 81us/step - loss: 0.1656 - acc: 0.9371 - val_loss: 0.1921 - val_acc: 0.9235\n",
      "Epoch 96/120\n",
      "3958/3958 [==============================] - 0s 71us/step - loss: 0.1664 - acc: 0.9389 - val_loss: 0.1940 - val_acc: 0.9250\n",
      "Epoch 97/120\n",
      "3958/3958 [==============================] - 0s 74us/step - loss: 0.1641 - acc: 0.9386 - val_loss: 0.1984 - val_acc: 0.9212\n",
      "Epoch 98/120\n",
      "3958/3958 [==============================] - 0s 71us/step - loss: 0.1655 - acc: 0.9378 - val_loss: 0.1974 - val_acc: 0.9280\n",
      "Epoch 99/120\n",
      "3958/3958 [==============================] - 0s 69us/step - loss: 0.1668 - acc: 0.9363 - val_loss: 0.1935 - val_acc: 0.9197\n",
      "Epoch 100/120\n",
      "3958/3958 [==============================] - 0s 69us/step - loss: 0.1661 - acc: 0.9378 - val_loss: 0.1978 - val_acc: 0.9205\n",
      "Epoch 101/120\n",
      "3958/3958 [==============================] - 0s 78us/step - loss: 0.1655 - acc: 0.9386 - val_loss: 0.2003 - val_acc: 0.9144\n",
      "Epoch 102/120\n",
      "3958/3958 [==============================] - 0s 81us/step - loss: 0.1651 - acc: 0.9404 - val_loss: 0.1970 - val_acc: 0.9235\n",
      "Epoch 103/120\n",
      "3958/3958 [==============================] - 0s 77us/step - loss: 0.1661 - acc: 0.9389 - val_loss: 0.1956 - val_acc: 0.9227\n",
      "Epoch 104/120\n",
      "3958/3958 [==============================] - 0s 73us/step - loss: 0.1637 - acc: 0.9389 - val_loss: 0.1992 - val_acc: 0.9205\n",
      "Epoch 105/120\n",
      "3958/3958 [==============================] - 0s 67us/step - loss: 0.1647 - acc: 0.9384 - val_loss: 0.2007 - val_acc: 0.9174\n",
      "Epoch 106/120\n",
      "3958/3958 [==============================] - 0s 71us/step - loss: 0.1634 - acc: 0.9399 - val_loss: 0.1946 - val_acc: 0.9242\n",
      "Epoch 107/120\n",
      "3958/3958 [==============================] - 0s 72us/step - loss: 0.1644 - acc: 0.9376 - val_loss: 0.2013 - val_acc: 0.9167\n",
      "Epoch 108/120\n",
      "3958/3958 [==============================] - 0s 86us/step - loss: 0.1667 - acc: 0.9363 - val_loss: 0.1972 - val_acc: 0.9212\n",
      "Epoch 109/120\n",
      "3958/3958 [==============================] - 0s 74us/step - loss: 0.1653 - acc: 0.9371 - val_loss: 0.1954 - val_acc: 0.9242\n",
      "Epoch 110/120\n",
      "3958/3958 [==============================] - 0s 71us/step - loss: 0.1650 - acc: 0.9376 - val_loss: 0.1961 - val_acc: 0.9212\n",
      "Epoch 111/120\n",
      "3958/3958 [==============================] - 0s 75us/step - loss: 0.1634 - acc: 0.9394 - val_loss: 0.1923 - val_acc: 0.9265\n",
      "Epoch 112/120\n",
      "3958/3958 [==============================] - 0s 78us/step - loss: 0.1631 - acc: 0.9389 - val_loss: 0.1982 - val_acc: 0.9212\n",
      "Epoch 113/120\n",
      "3958/3958 [==============================] - 0s 74us/step - loss: 0.1630 - acc: 0.9396 - val_loss: 0.1936 - val_acc: 0.9220\n",
      "Epoch 114/120\n",
      "3958/3958 [==============================] - 0s 72us/step - loss: 0.1619 - acc: 0.9414 - val_loss: 0.1930 - val_acc: 0.9220\n",
      "Epoch 115/120\n",
      "3958/3958 [==============================] - 0s 73us/step - loss: 0.1638 - acc: 0.9401 - val_loss: 0.2008 - val_acc: 0.9197\n",
      "Epoch 116/120\n",
      "3958/3958 [==============================] - 0s 74us/step - loss: 0.1672 - acc: 0.9381 - val_loss: 0.1921 - val_acc: 0.9220\n",
      "Epoch 117/120\n",
      "3958/3958 [==============================] - 0s 78us/step - loss: 0.1644 - acc: 0.9373 - val_loss: 0.1954 - val_acc: 0.9144\n",
      "Epoch 118/120\n",
      "3958/3958 [==============================] - 0s 74us/step - loss: 0.1633 - acc: 0.9373 - val_loss: 0.1920 - val_acc: 0.9242\n",
      "Epoch 119/120\n",
      "3958/3958 [==============================] - 0s 74us/step - loss: 0.1647 - acc: 0.9376 - val_loss: 0.1899 - val_acc: 0.9212\n"
     ]
    },
    {
     "name": "stdout",
     "output_type": "stream",
     "text": [
      "Epoch 120/120\n",
      "3958/3958 [==============================] - 0s 69us/step - loss: 0.1638 - acc: 0.9394 - val_loss: 0.1903 - val_acc: 0.9265\n"
     ]
    }
   ],
   "source": [
    "history = classifier.fit(X_train,y_train, batch_size = 16, epochs = 120, validation_split=0.25, verbose=1)"
   ]
  },
  {
   "cell_type": "code",
   "execution_count": 39,
   "metadata": {},
   "outputs": [],
   "source": [
    "import matplotlib.pyplot as plt"
   ]
  },
  {
   "cell_type": "code",
   "execution_count": 40,
   "metadata": {},
   "outputs": [
    {
     "data": {
      "image/png": "[encoded data removed]",
      "text/plain": [
       "<matplotlib.figure.Figure at 0x2462295cf28>"
      ]
     },
     "metadata": {},
     "output_type": "display_data"
    }
   ],
   "source": [
    "# Plot training & validation accuracy values\n",
    "plt.plot(history.history['acc'])\n",
    "plt.plot(history.history['val_acc'])\n",
    "plt.title('Model accuracy')\n",
    "plt.ylabel('Accuracy')\n",
    "plt.xlabel('Epoch')\n",
    "plt.legend(['Train', 'Test'], loc='upper left')\n",
    "plt.show()"
   ]
  },
  {
   "cell_type": "code",
   "execution_count": 41,
   "metadata": {
    "scrolled": true
   },
   "outputs": [
    {
     "data": {
      "image/png": "[encoded data removed]",
      "text/plain": [
       "<matplotlib.figure.Figure at 0x2462224ec18>"
      ]
     },
     "metadata": {},
     "output_type": "display_data"
    }
   ],
   "source": [
    "# Plot training & validation loss values\n",
    "plt.plot(history.history['loss'])\n",
    "plt.plot(history.history['val_loss'])\n",
    "plt.title('Model loss')\n",
    "plt.ylabel('Loss')\n",
    "plt.xlabel('Epoch')\n",
    "plt.legend(['Train', 'Test'], loc='upper left')\n",
    "plt.show()"
   ]
  }
 ],
 "metadata": {
  "kernelspec": {
   "display_name": "Python 3",
   "language": "python",
   "name": "python3"
  },
  "language_info": {
   "codemirror_mode": {
    "name": "ipython",
    "version": 3
   },
   "file_extension": ".py",
   "mimetype": "text/x-python",
   "name": "python",
   "nbconvert_exporter": "python",
   "pygments_lexer": "ipython3",
   "version": "3.6.4"
  }
 },
 "nbformat": 4,
 "nbformat_minor": 2
}
